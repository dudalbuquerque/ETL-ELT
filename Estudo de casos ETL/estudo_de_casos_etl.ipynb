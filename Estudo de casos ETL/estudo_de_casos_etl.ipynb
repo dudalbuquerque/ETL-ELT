{
 "cells": [
  {
   "cell_type": "code",
   "execution_count": 6,
   "id": "0f54eeb1",
   "metadata": {},
   "outputs": [],
   "source": [
    "# Libs necessárias\n",
    "import numpy as np\n",
    "import pandas as pd\n",
    "import zipfile\n",
    "import requests \n",
    "import os\n",
    "from datetime import datetime\n",
    "import json\n",
    "import psycopg2"
   ]
  },
  {
   "cell_type": "code",
   "execution_count": null,
   "id": "fbdabcc7",
   "metadata": {},
   "outputs": [
    {
     "name": "stdout",
     "output_type": "stream",
     "text": [
      "Dados de 2023 salvos em: datasets\\recife_2023.json\n",
      "Dados de 2024 salvos em: datasets\\recife_2024.json\n",
      "Dados de 2025 salvos em: datasets\\recife_2025.json\n"
     ]
    }
   ],
   "source": [
    "# dataset\n",
    "# Pasta onde os arquivos serão salvos\n",
    "dataset_dir = \"datasets\"\n",
    "os.makedirs(dataset_dir, exist_ok=True)\n",
    "\n",
    "# URLs dos datasets por ano\n",
    "urls = {\n",
    "    \"2023\": \"http://dados.recife.pe.gov.br/api/3/action/datastore_search?resource_id=c269789d-da47-4dde-8ce7-42fba10fe8e2\",\n",
    "    \"2024\": \"http://dados.recife.pe.gov.br/api/3/action/datastore_search?resource_id=4adf9430-35a5-4e88-8ecf-b45748b81c7d\",\n",
    "    \"2025\": \"http://dados.recife.pe.gov.br/api/3/action/datastore_search?resource_id=48bd8822-df18-48d0-bbc1-2de87ca0d70b\"\n",
    "}\n",
    "\n",
    "# Consulta e salvamento\n",
    "for ano, url in urls.items():\n",
    "    response = requests.get(url)\n",
    "    if response.status_code == 200:\n",
    "        data = response.json()\n",
    "        registros = data['result']['records']\n",
    "        \n",
    "        # Caminho do arquivo .json\n",
    "        file_path = os.path.join(dataset_dir, f\"recife_{ano}.json\")\n",
    "        \n",
    "        # Salvando os registros em JSON\n",
    "        with open(file_path, 'w', encoding='utf-8') as f:\n",
    "            json.dump(registros, f, ensure_ascii=False, indent=4)\n",
    "        print(f\"Dados de {ano} salvos em: {file_path}\")\n",
    "    else:\n",
    "        print(f\"Erro ao acessar dados de {ano}: {response.status_code}\")"
   ]
  }
 ],
 "metadata": {
  "kernelspec": {
   "display_name": "Python 3",
   "language": "python",
   "name": "python3"
  },
  "language_info": {
   "codemirror_mode": {
    "name": "ipython",
    "version": 3
   },
   "file_extension": ".py",
   "mimetype": "text/x-python",
   "name": "python",
   "nbconvert_exporter": "python",
   "pygments_lexer": "ipython3",
   "version": "3.11.9"
  }
 },
 "nbformat": 4,
 "nbformat_minor": 5
}
