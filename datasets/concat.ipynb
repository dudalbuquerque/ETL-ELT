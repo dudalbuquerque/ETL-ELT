{
 "cells": [
  {
   "cell_type": "code",
   "execution_count": 11,
   "id": "105ae9a6",
   "metadata": {},
   "outputs": [],
   "source": [
    "import pandas as pd"
   ]
  },
  {
   "cell_type": "code",
   "execution_count": 12,
   "id": "83e3129b",
   "metadata": {},
   "outputs": [],
   "source": [
    "file_path_1 = \"infracoes_2023.csv\"\n",
    "file_path_2 = \"infracoes_2024.csv\"\n",
    "file_path_3 = \"infracoes2025.csv\""
   ]
  },
  {
   "cell_type": "code",
   "execution_count": 7,
   "id": "f76b5e76",
   "metadata": {},
   "outputs": [
    {
     "name": "stderr",
     "output_type": "stream",
     "text": [
      "C:\\Users\\gfasg\\AppData\\Local\\Temp\\ipykernel_10468\\3416903333.py:3: DtypeWarning: Columns (3) have mixed types. Specify dtype option on import or set low_memory=False.\n",
      "  df_3 = pd.read_csv(file_path_3, sep=';')\n"
     ]
    }
   ],
   "source": [
    "df_1 = pd.read_csv(file_path_1, sep=';')\n",
    "df_2 = pd.read_csv(file_path_2, sep=';')\n",
    "df_3 = pd.read_csv(file_path_3, sep=';')"
   ]
  },
  {
   "cell_type": "code",
   "execution_count": 8,
   "id": "135a68bf",
   "metadata": {},
   "outputs": [],
   "source": [
    "# Concatenação por linhas (empilhando)\n",
    "dft = pd.concat([df_1, df_2, df_3], axis=0, ignore_index=True)\n"
   ]
  },
  {
   "cell_type": "markdown",
   "id": "bf118198",
   "metadata": {},
   "source": [
    "## Juntando as bases de dados"
   ]
  },
  {
   "cell_type": "code",
   "execution_count": 9,
   "id": "7b00fa33",
   "metadata": {},
   "outputs": [
    {
     "name": "stdout",
     "output_type": "stream",
     "text": [
      "<class 'pandas.core.frame.DataFrame'>\n",
      "RangeIndex: 1064812 entries, 0 to 1064811\n",
      "Data columns (total 8 columns):\n",
      " #   Column             Non-Null Count    Dtype \n",
      "---  ------             --------------    ----- \n",
      " 0   datainfracao       1064812 non-null  object\n",
      " 1   horainfracao       1064812 non-null  object\n",
      " 2   dataimplantacao    1064812 non-null  object\n",
      " 3   agenteequipamento  1002028 non-null  object\n",
      " 4   infracao           1064812 non-null  int64 \n",
      " 5   descricaoinfracao  1064812 non-null  object\n",
      " 6   amparolegal        1064812 non-null  object\n",
      " 7   localcometimento   1064812 non-null  object\n",
      "dtypes: int64(1), object(7)\n",
      "memory usage: 65.0+ MB\n"
     ]
    }
   ],
   "source": [
    "dft.info()"
   ]
  },
  {
   "cell_type": "code",
   "execution_count": 10,
   "id": "b009abbb",
   "metadata": {},
   "outputs": [],
   "source": [
    "dft.to_csv(\"dataset_final.csv\", index=False, sep=';')"
   ]
  }
 ],
 "metadata": {
  "kernelspec": {
   "display_name": "Python 3",
   "language": "python",
   "name": "python3"
  },
  "language_info": {
   "codemirror_mode": {
    "name": "ipython",
    "version": 3
   },
   "file_extension": ".py",
   "mimetype": "text/x-python",
   "name": "python",
   "nbconvert_exporter": "python",
   "pygments_lexer": "ipython3",
   "version": "3.11.9"
  }
 },
 "nbformat": 4,
 "nbformat_minor": 5
}
