{
 "cells": [
  {
   "cell_type": "markdown",
   "id": "510e629b",
   "metadata": {},
   "source": [
    "## Trazendo as planilhas e Importando Bibliotecas"
   ]
  },
  {
   "cell_type": "code",
   "execution_count": 9,
   "id": "ce19fede",
   "metadata": {},
   "outputs": [],
   "source": [
    "# Bibliotecas:\n",
    "import pandas as pd"
   ]
  },
  {
   "cell_type": "markdown",
   "id": "d4a26d3e",
   "metadata": {},
   "source": [
    "## Carregando Dataset Concatenado"
   ]
  },
  {
   "cell_type": "code",
   "execution_count": 14,
   "id": "c2d26b1e",
   "metadata": {},
   "outputs": [
    {
     "name": "stderr",
     "output_type": "stream",
     "text": [
      "C:\\Users\\gfasg\\AppData\\Local\\Temp\\ipykernel_30392\\1680298744.py:1: DtypeWarning: Columns (3) have mixed types. Specify dtype option on import or set low_memory=False.\n",
      "  dft = pd.read_csv(\"../datasets/dataset_final.csv\", sep=';')\n"
     ]
    }
   ],
   "source": [
    "dft = pd.read_csv(\"../datasets/dataset_final.csv\", sep=';')"
   ]
  },
  {
   "cell_type": "markdown",
   "id": "94c38e6d",
   "metadata": {},
   "source": [
    "## Visualizar informações das tabelas"
   ]
  },
  {
   "cell_type": "code",
   "execution_count": null,
   "id": "5c43d7fc",
   "metadata": {},
   "outputs": [
    {
     "data": {
      "text/html": [
       "<div>\n",
       "<style scoped>\n",
       "    .dataframe tbody tr th:only-of-type {\n",
       "        vertical-align: middle;\n",
       "    }\n",
       "\n",
       "    .dataframe tbody tr th {\n",
       "        vertical-align: top;\n",
       "    }\n",
       "\n",
       "    .dataframe thead th {\n",
       "        text-align: right;\n",
       "    }\n",
       "</style>\n",
       "<table border=\"1\" class=\"dataframe\">\n",
       "  <thead>\n",
       "    <tr style=\"text-align: right;\">\n",
       "      <th></th>\n",
       "      <th>datainfracao</th>\n",
       "      <th>horainfracao</th>\n",
       "      <th>dataimplantacao</th>\n",
       "      <th>agenteequipamento</th>\n",
       "      <th>infracao</th>\n",
       "      <th>descricaoinfracao</th>\n",
       "      <th>amparolegal</th>\n",
       "      <th>localcometimento</th>\n",
       "    </tr>\n",
       "  </thead>\n",
       "  <tbody>\n",
       "    <tr>\n",
       "      <th>0</th>\n",
       "      <td>2023-01-01</td>\n",
       "      <td>00:01:00</td>\n",
       "      <td>2023-01-06</td>\n",
       "      <td>Código 8 - AUTOS NO TALÃO ELETRÔNICO</td>\n",
       "      <td>7234</td>\n",
       "      <td>Quando o veículo estiver em movimento deixar d...</td>\n",
       "      <td>Art. 250, Inc. I, alínea a</td>\n",
       "      <td>RUA RIBEIRO DE BRITO, SOB O SEMAFORO N. 155   ...</td>\n",
       "    </tr>\n",
       "    <tr>\n",
       "      <th>1</th>\n",
       "      <td>2023-01-01</td>\n",
       "      <td>00:27:00</td>\n",
       "      <td>2023-01-06</td>\n",
       "      <td>Código 8 - AUTOS NO TALÃO ELETRÔNICO</td>\n",
       "      <td>5835</td>\n",
       "      <td>Desobedecer às ordens emanadas da autoridade c...</td>\n",
       "      <td>Art. 195</td>\n",
       "      <td>RUA DOS NAVEGANTES, CRUZAMENTO COM A RUA PADRE...</td>\n",
       "    </tr>\n",
       "    <tr>\n",
       "      <th>2</th>\n",
       "      <td>2023-01-01</td>\n",
       "      <td>00:27:00</td>\n",
       "      <td>2023-01-06</td>\n",
       "      <td>Código 8 - AUTOS NO TALÃO ELETRÔNICO</td>\n",
       "      <td>5215</td>\n",
       "      <td>Dirigir ameaçando os pedestres que estejam atr...</td>\n",
       "      <td>Art. 170</td>\n",
       "      <td>RUA DOS NAVEGANTES, CRUZAMENTO COM A RUA PADRE...</td>\n",
       "    </tr>\n",
       "    <tr>\n",
       "      <th>3</th>\n",
       "      <td>2023-01-01</td>\n",
       "      <td>00:52:00</td>\n",
       "      <td>2023-01-06</td>\n",
       "      <td>Código 8 - AUTOS NO TALÃO ELETRÔNICO</td>\n",
       "      <td>5550</td>\n",
       "      <td>Estacionar o veículo em locais e horários proi...</td>\n",
       "      <td>Art. 181, Inc. XVIII</td>\n",
       "      <td>AVENIDA ENGENHEIRO DOMINGOS FERREIRA, EM FRENT...</td>\n",
       "    </tr>\n",
       "    <tr>\n",
       "      <th>4</th>\n",
       "      <td>2023-01-01</td>\n",
       "      <td>00:52:00</td>\n",
       "      <td>2023-01-06</td>\n",
       "      <td>Código 8 - AUTOS NO TALÃO ELETRÔNICO</td>\n",
       "      <td>5550</td>\n",
       "      <td>Estacionar o veículo em locais e horários proi...</td>\n",
       "      <td>Art. 181, Inc. XVIII</td>\n",
       "      <td>AVENIDA ENGENHEIRO DOMINGOS FERREIRA, EM FRENT...</td>\n",
       "    </tr>\n",
       "  </tbody>\n",
       "</table>\n",
       "</div>"
      ],
      "text/plain": [
       "  datainfracao horainfracao dataimplantacao  \\\n",
       "0   2023-01-01     00:01:00      2023-01-06   \n",
       "1   2023-01-01     00:27:00      2023-01-06   \n",
       "2   2023-01-01     00:27:00      2023-01-06   \n",
       "3   2023-01-01     00:52:00      2023-01-06   \n",
       "4   2023-01-01     00:52:00      2023-01-06   \n",
       "\n",
       "                       agenteequipamento  infracao  \\\n",
       "0  Código 8 - AUTOS NO TALÃO ELETRÔNICO       7234   \n",
       "1  Código 8 - AUTOS NO TALÃO ELETRÔNICO       5835   \n",
       "2  Código 8 - AUTOS NO TALÃO ELETRÔNICO       5215   \n",
       "3  Código 8 - AUTOS NO TALÃO ELETRÔNICO       5550   \n",
       "4  Código 8 - AUTOS NO TALÃO ELETRÔNICO       5550   \n",
       "\n",
       "                                   descricaoinfracao  \\\n",
       "0  Quando o veículo estiver em movimento deixar d...   \n",
       "1  Desobedecer às ordens emanadas da autoridade c...   \n",
       "2  Dirigir ameaçando os pedestres que estejam atr...   \n",
       "3  Estacionar o veículo em locais e horários proi...   \n",
       "4  Estacionar o veículo em locais e horários proi...   \n",
       "\n",
       "                        amparolegal  \\\n",
       "0  Art. 250, Inc. I, alínea a         \n",
       "1  Art. 195                           \n",
       "2  Art. 170                           \n",
       "3  Art. 181, Inc. XVIII               \n",
       "4  Art. 181, Inc. XVIII               \n",
       "\n",
       "                                    localcometimento  \n",
       "0  RUA RIBEIRO DE BRITO, SOB O SEMAFORO N. 155   ...  \n",
       "1  RUA DOS NAVEGANTES, CRUZAMENTO COM A RUA PADRE...  \n",
       "2  RUA DOS NAVEGANTES, CRUZAMENTO COM A RUA PADRE...  \n",
       "3  AVENIDA ENGENHEIRO DOMINGOS FERREIRA, EM FRENT...  \n",
       "4  AVENIDA ENGENHEIRO DOMINGOS FERREIRA, EM FRENT...  "
      ]
     },
     "execution_count": 57,
     "metadata": {},
     "output_type": "execute_result"
    }
   ],
   "source": []
  },
  {
   "cell_type": "code",
   "execution_count": 58,
   "id": "301dc7b9",
   "metadata": {},
   "outputs": [
    {
     "data": {
      "text/html": [
       "<div>\n",
       "<style scoped>\n",
       "    .dataframe tbody tr th:only-of-type {\n",
       "        vertical-align: middle;\n",
       "    }\n",
       "\n",
       "    .dataframe tbody tr th {\n",
       "        vertical-align: top;\n",
       "    }\n",
       "\n",
       "    .dataframe thead th {\n",
       "        text-align: right;\n",
       "    }\n",
       "</style>\n",
       "<table border=\"1\" class=\"dataframe\">\n",
       "  <thead>\n",
       "    <tr style=\"text-align: right;\">\n",
       "      <th></th>\n",
       "      <th>datainfracao</th>\n",
       "      <th>horainfracao</th>\n",
       "      <th>dataimplantacao</th>\n",
       "      <th>agenteequipamento</th>\n",
       "      <th>infracao</th>\n",
       "      <th>descricaoinfracao</th>\n",
       "      <th>amparolegal</th>\n",
       "      <th>localcometimento</th>\n",
       "    </tr>\n",
       "  </thead>\n",
       "  <tbody>\n",
       "    <tr>\n",
       "      <th>0</th>\n",
       "      <td>01/01/2024 00:00</td>\n",
       "      <td>00:59:00</td>\n",
       "      <td>03/01/2024 00:00</td>\n",
       "      <td>Código 8 - AUTOS NO TALÃO ELETRÔNICO</td>\n",
       "      <td>5479</td>\n",
       "      <td>Estacionar o veículo impedindo a movimentação ...</td>\n",
       "      <td>Art. 181, Inc. X</td>\n",
       "      <td>AVENIDA BOA VIAGEM, LADO OPOSTO AO N. 618</td>\n",
       "    </tr>\n",
       "    <tr>\n",
       "      <th>1</th>\n",
       "      <td>01/01/2024 00:00</td>\n",
       "      <td>01:08:00</td>\n",
       "      <td>03/01/2024 00:00</td>\n",
       "      <td>Código 8 - AUTOS NO TALÃO ELETRÔNICO</td>\n",
       "      <td>6564</td>\n",
       "      <td>Conduzir o veículo transportando passageiros e...</td>\n",
       "      <td>Art. 230, Inc. II</td>\n",
       "      <td>AVENIDA BOA VIAGEM, EM FRENTE AO N. 500. SENTI...</td>\n",
       "    </tr>\n",
       "    <tr>\n",
       "      <th>2</th>\n",
       "      <td>01/01/2024 00:00</td>\n",
       "      <td>01:50:00</td>\n",
       "      <td>03/01/2024 00:00</td>\n",
       "      <td>Código 8 - AUTOS NO TALÃO ELETRÔNICO</td>\n",
       "      <td>5452</td>\n",
       "      <td>Estacionar o veículo no passeio.</td>\n",
       "      <td>Art. 181, Inc. VIII</td>\n",
       "      <td>RUA CAPITAO REBELINHO, EM FRENTE AO N. 482, SE...</td>\n",
       "    </tr>\n",
       "    <tr>\n",
       "      <th>3</th>\n",
       "      <td>01/01/2024 00:00</td>\n",
       "      <td>02:00:00</td>\n",
       "      <td>03/01/2024 00:00</td>\n",
       "      <td>Código 8 - AUTOS NO TALÃO ELETRÔNICO</td>\n",
       "      <td>5452</td>\n",
       "      <td>Estacionar o veículo no passeio.</td>\n",
       "      <td>Art. 181, Inc. VIII</td>\n",
       "      <td>RUA CAPITAO REBELINHO, EM FRENTE AO N. 482</td>\n",
       "    </tr>\n",
       "    <tr>\n",
       "      <th>4</th>\n",
       "      <td>01/01/2024 00:00</td>\n",
       "      <td>02:18:00</td>\n",
       "      <td>03/01/2024 00:00</td>\n",
       "      <td>Código 8 - AUTOS NO TALÃO ELETRÔNICO</td>\n",
       "      <td>6050</td>\n",
       "      <td>Avançar o sinal vermelho do semáforo, exceto o...</td>\n",
       "      <td>Art. 208</td>\n",
       "      <td>AVENIDA CONSELHEIRO AGUIAR, SOB AO SEMAFORO N....</td>\n",
       "    </tr>\n",
       "  </tbody>\n",
       "</table>\n",
       "</div>"
      ],
      "text/plain": [
       "       datainfracao horainfracao   dataimplantacao  \\\n",
       "0  01/01/2024 00:00     00:59:00  03/01/2024 00:00   \n",
       "1  01/01/2024 00:00     01:08:00  03/01/2024 00:00   \n",
       "2  01/01/2024 00:00     01:50:00  03/01/2024 00:00   \n",
       "3  01/01/2024 00:00     02:00:00  03/01/2024 00:00   \n",
       "4  01/01/2024 00:00     02:18:00  03/01/2024 00:00   \n",
       "\n",
       "                      agenteequipamento  infracao  \\\n",
       "0  Código 8 - AUTOS NO TALÃO ELETRÔNICO      5479   \n",
       "1  Código 8 - AUTOS NO TALÃO ELETRÔNICO      6564   \n",
       "2  Código 8 - AUTOS NO TALÃO ELETRÔNICO      5452   \n",
       "3  Código 8 - AUTOS NO TALÃO ELETRÔNICO      5452   \n",
       "4  Código 8 - AUTOS NO TALÃO ELETRÔNICO      6050   \n",
       "\n",
       "                                   descricaoinfracao          amparolegal  \\\n",
       "0  Estacionar o veículo impedindo a movimentação ...     Art. 181, Inc. X   \n",
       "1  Conduzir o veículo transportando passageiros e...    Art. 230, Inc. II   \n",
       "2                   Estacionar o veículo no passeio.  Art. 181, Inc. VIII   \n",
       "3                   Estacionar o veículo no passeio.  Art. 181, Inc. VIII   \n",
       "4  Avançar o sinal vermelho do semáforo, exceto o...             Art. 208   \n",
       "\n",
       "                                    localcometimento  \n",
       "0          AVENIDA BOA VIAGEM, LADO OPOSTO AO N. 618  \n",
       "1  AVENIDA BOA VIAGEM, EM FRENTE AO N. 500. SENTI...  \n",
       "2  RUA CAPITAO REBELINHO, EM FRENTE AO N. 482, SE...  \n",
       "3         RUA CAPITAO REBELINHO, EM FRENTE AO N. 482  \n",
       "4  AVENIDA CONSELHEIRO AGUIAR, SOB AO SEMAFORO N....  "
      ]
     },
     "execution_count": 58,
     "metadata": {},
     "output_type": "execute_result"
    }
   ],
   "source": [
    "df2.head()"
   ]
  },
  {
   "cell_type": "code",
   "execution_count": 59,
   "id": "52817ac6",
   "metadata": {},
   "outputs": [
    {
     "data": {
      "text/html": [
       "<div>\n",
       "<style scoped>\n",
       "    .dataframe tbody tr th:only-of-type {\n",
       "        vertical-align: middle;\n",
       "    }\n",
       "\n",
       "    .dataframe tbody tr th {\n",
       "        vertical-align: top;\n",
       "    }\n",
       "\n",
       "    .dataframe thead th {\n",
       "        text-align: right;\n",
       "    }\n",
       "</style>\n",
       "<table border=\"1\" class=\"dataframe\">\n",
       "  <thead>\n",
       "    <tr style=\"text-align: right;\">\n",
       "      <th></th>\n",
       "      <th>datainfracao</th>\n",
       "      <th>horainfracao</th>\n",
       "      <th>dataimplantacao</th>\n",
       "      <th>agenteequipamento</th>\n",
       "      <th>infracao</th>\n",
       "      <th>descricaoinfracao</th>\n",
       "      <th>amparolegal</th>\n",
       "      <th>localcometimento</th>\n",
       "    </tr>\n",
       "  </thead>\n",
       "  <tbody>\n",
       "    <tr>\n",
       "      <th>0</th>\n",
       "      <td>2025-01-01</td>\n",
       "      <td>00:01:00</td>\n",
       "      <td>2025-01-09</td>\n",
       "      <td>Código 8 - AUTOS NO TALÃO ELETRÔNICO</td>\n",
       "      <td>7340</td>\n",
       "      <td>Dirigir o veículo usando calçado que não se fi...</td>\n",
       "      <td>Art. 252, Inc. IV</td>\n",
       "      <td>RUA ALCIDES CARNEIRO LEAL, EM FRENTE AO N. 71</td>\n",
       "    </tr>\n",
       "    <tr>\n",
       "      <th>1</th>\n",
       "      <td>2025-01-01</td>\n",
       "      <td>00:03:00</td>\n",
       "      <td>2025-01-09</td>\n",
       "      <td>Código 8 - AUTOS NO TALÃO ELETRÔNICO</td>\n",
       "      <td>7684</td>\n",
       "      <td>Conduzir motocicleta, motoneta ou ciclomotor c...</td>\n",
       "      <td>Art. 244, X</td>\n",
       "      <td>RUA ALCIDES CARNEIRO LEAL, EM FRENTE AO N. 71</td>\n",
       "    </tr>\n",
       "    <tr>\n",
       "      <th>2</th>\n",
       "      <td>2025-01-01</td>\n",
       "      <td>00:05:00</td>\n",
       "      <td>2025-01-09</td>\n",
       "      <td>Código 8 - AUTOS NO TALÃO ELETRÔNICO</td>\n",
       "      <td>5487</td>\n",
       "      <td>Estacionar o veículo ao lado de outro veículo ...</td>\n",
       "      <td>Art. 181, Inc. XI</td>\n",
       "      <td>AVENIDA BOA VIAGEM, LADO OPOSTO AO N. 3232</td>\n",
       "    </tr>\n",
       "    <tr>\n",
       "      <th>3</th>\n",
       "      <td>2025-01-01</td>\n",
       "      <td>00:05:00</td>\n",
       "      <td>2025-01-09</td>\n",
       "      <td>Código 8 - AUTOS NO TALÃO ELETRÔNICO</td>\n",
       "      <td>5487</td>\n",
       "      <td>Estacionar o veículo ao lado de outro veículo ...</td>\n",
       "      <td>Art. 181, Inc. XI</td>\n",
       "      <td>AVENIDA BOA VIAGEM, LADO OPOSTO AO N. 3232</td>\n",
       "    </tr>\n",
       "    <tr>\n",
       "      <th>4</th>\n",
       "      <td>2025-01-01</td>\n",
       "      <td>00:05:00</td>\n",
       "      <td>2025-01-09</td>\n",
       "      <td>Código 8 - AUTOS NO TALÃO ELETRÔNICO</td>\n",
       "      <td>5487</td>\n",
       "      <td>Estacionar o veículo ao lado de outro veículo ...</td>\n",
       "      <td>Art. 181, Inc. XI</td>\n",
       "      <td>AVENIDA BOA VIAGEM, AO LADO AO N. 3232</td>\n",
       "    </tr>\n",
       "  </tbody>\n",
       "</table>\n",
       "</div>"
      ],
      "text/plain": [
       "  datainfracao horainfracao dataimplantacao  \\\n",
       "0   2025-01-01     00:01:00      2025-01-09   \n",
       "1   2025-01-01     00:03:00      2025-01-09   \n",
       "2   2025-01-01     00:05:00      2025-01-09   \n",
       "3   2025-01-01     00:05:00      2025-01-09   \n",
       "4   2025-01-01     00:05:00      2025-01-09   \n",
       "\n",
       "                      agenteequipamento  infracao  \\\n",
       "0  Código 8 - AUTOS NO TALÃO ELETRÔNICO      7340   \n",
       "1  Código 8 - AUTOS NO TALÃO ELETRÔNICO      7684   \n",
       "2  Código 8 - AUTOS NO TALÃO ELETRÔNICO      5487   \n",
       "3  Código 8 - AUTOS NO TALÃO ELETRÔNICO      5487   \n",
       "4  Código 8 - AUTOS NO TALÃO ELETRÔNICO      5487   \n",
       "\n",
       "                                   descricaoinfracao        amparolegal  \\\n",
       "0  Dirigir o veículo usando calçado que não se fi...  Art. 252, Inc. IV   \n",
       "1  Conduzir motocicleta, motoneta ou ciclomotor c...        Art. 244, X   \n",
       "2  Estacionar o veículo ao lado de outro veículo ...  Art. 181, Inc. XI   \n",
       "3  Estacionar o veículo ao lado de outro veículo ...  Art. 181, Inc. XI   \n",
       "4  Estacionar o veículo ao lado de outro veículo ...  Art. 181, Inc. XI   \n",
       "\n",
       "                                localcometimento  \n",
       "0  RUA ALCIDES CARNEIRO LEAL, EM FRENTE AO N. 71  \n",
       "1  RUA ALCIDES CARNEIRO LEAL, EM FRENTE AO N. 71  \n",
       "2     AVENIDA BOA VIAGEM, LADO OPOSTO AO N. 3232  \n",
       "3     AVENIDA BOA VIAGEM, LADO OPOSTO AO N. 3232  \n",
       "4         AVENIDA BOA VIAGEM, AO LADO AO N. 3232  "
      ]
     },
     "execution_count": 59,
     "metadata": {},
     "output_type": "execute_result"
    }
   ],
   "source": [
    "df3.head()"
   ]
  },
  {
   "cell_type": "code",
   "execution_count": 60,
   "id": "a550c390",
   "metadata": {},
   "outputs": [
    {
     "name": "stdout",
     "output_type": "stream",
     "text": [
      "<class 'pandas.core.frame.DataFrame'>\n",
      "RangeIndex: 488728 entries, 0 to 488727\n",
      "Data columns (total 8 columns):\n",
      " #   Column             Non-Null Count   Dtype \n",
      "---  ------             --------------   ----- \n",
      " 0   datainfracao       488728 non-null  object\n",
      " 1   horainfracao       488728 non-null  object\n",
      " 2   dataimplantacao    488728 non-null  object\n",
      " 3   agenteequipamento  488728 non-null  object\n",
      " 4   infracao           488728 non-null  int64 \n",
      " 5   descricaoinfracao  488728 non-null  object\n",
      " 6   amparolegal        488728 non-null  object\n",
      " 7   localcometimento   488728 non-null  object\n",
      "dtypes: int64(1), object(7)\n",
      "memory usage: 29.8+ MB\n"
     ]
    }
   ],
   "source": [
    "df1.info()"
   ]
  },
  {
   "cell_type": "code",
   "execution_count": 61,
   "id": "e29c590e",
   "metadata": {},
   "outputs": [
    {
     "name": "stdout",
     "output_type": "stream",
     "text": [
      "<class 'pandas.core.frame.DataFrame'>\n",
      "RangeIndex: 404975 entries, 0 to 404974\n",
      "Data columns (total 8 columns):\n",
      " #   Column             Non-Null Count   Dtype \n",
      "---  ------             --------------   ----- \n",
      " 0   datainfracao       404975 non-null  object\n",
      " 1   horainfracao       404975 non-null  object\n",
      " 2   dataimplantacao    404975 non-null  object\n",
      " 3   agenteequipamento  404975 non-null  object\n",
      " 4   infracao           404975 non-null  int64 \n",
      " 5   descricaoinfracao  404975 non-null  object\n",
      " 6   amparolegal        404975 non-null  object\n",
      " 7   localcometimento   404975 non-null  object\n",
      "dtypes: int64(1), object(7)\n",
      "memory usage: 24.7+ MB\n"
     ]
    }
   ],
   "source": [
    "df2.info()"
   ]
  },
  {
   "cell_type": "code",
   "execution_count": 62,
   "id": "febf0ce8",
   "metadata": {},
   "outputs": [
    {
     "name": "stdout",
     "output_type": "stream",
     "text": [
      "<class 'pandas.core.frame.DataFrame'>\n",
      "RangeIndex: 171109 entries, 0 to 171108\n",
      "Data columns (total 8 columns):\n",
      " #   Column             Non-Null Count   Dtype \n",
      "---  ------             --------------   ----- \n",
      " 0   datainfracao       171109 non-null  object\n",
      " 1   horainfracao       171109 non-null  object\n",
      " 2   dataimplantacao    171109 non-null  object\n",
      " 3   agenteequipamento  108325 non-null  object\n",
      " 4   infracao           171109 non-null  int64 \n",
      " 5   descricaoinfracao  171109 non-null  object\n",
      " 6   amparolegal        171109 non-null  object\n",
      " 7   localcometimento   171109 non-null  object\n",
      "dtypes: int64(1), object(7)\n",
      "memory usage: 10.4+ MB\n"
     ]
    }
   ],
   "source": [
    "df3.info()"
   ]
  },
  {
   "cell_type": "markdown",
   "id": "cf3e8de2",
   "metadata": {},
   "source": [
    "As bases não tem valores nulos, inválidos ou duplicados."
   ]
  },
  {
   "cell_type": "markdown",
   "id": "8040652d",
   "metadata": {},
   "source": [
    "## Tratamento dos dados"
   ]
  },
  {
   "cell_type": "markdown",
   "id": "4a9217bb",
   "metadata": {},
   "source": [
    "### Coluna amparolegal\n"
   ]
  },
  {
   "cell_type": "code",
   "execution_count": 63,
   "id": "ee112266",
   "metadata": {},
   "outputs": [
    {
     "name": "stdout",
     "output_type": "stream",
     "text": [
      "['Art. 250' 'Art. 195' 'Art. 170' 'Art. 181' 'Art. 185' 'Art. 208'\n",
      " 'Art. 252' 'Art. 167' 'Art. 218' 'Art. 187' 'Art. 183' 'Art. 207'\n",
      " 'Art. 178' 'Art. 184' 'Art. 244' 'Art. 186' 'Art. 182' 'Art. 230'\n",
      " 'Art. 201' 'Art. 196' 'Art. 206' 'Art. 169' 'ARt. 181' 'Art. 193'\n",
      " 'Art. 197' 'Art. 162' 'Art. 221' 'Art. 210' 'Art. 175' 'Art. 171'\n",
      " 'Art. 211' 'Art. 227' 'Art. 203' 'Art. 214' 'Art. 164' 'Art. 172'\n",
      " 'Art. 216' 'Art. 173' 'Art. 194' 'Art. 174' 'Art. 165-A' 'Art. 163'\n",
      " 'Art.168' 'Art. 220' 'Art. 231' 'Art. 189' 'Art. 215' 'Art. 236'\n",
      " 'Art. 209' 'Art. 191' 'Art. 180' 'Art. 253' 'Art. 232' 'Art. 228'\n",
      " 'Art. 229' 'Art. 239' 'Art. 238' 'Art. 278' 'Art. 165' 'Art. 176'\n",
      " 'Art. 235' 'Art. 205' 'Art. 192' 'SENTIDO OLINDA' 'Art. 190' 'Art.244'\n",
      " 'Art. 202' 'Art. 244 inciso VIII' 'Art. 204' 'Art. 251' 'Art. 188'\n",
      " 'Art. 223' 'Art. 199' 'Art. 254' 'SENTIDO CIDADE/SUBURBIO.' 'Art. 224'\n",
      " 'ILHA DO LEITE' 'Art. 253-A' 'Art. 246' 'Art. 225']\n"
     ]
    }
   ],
   "source": [
    "# Separando a coluna 'amparolegal' pelo primeiro sinal de vírgula\n",
    "df1[['Artigo', 'Inciso']] = df1['amparolegal'].str.split(',', n=1, expand=True)\n",
    "\n",
    "# Removendo espaços extras\n",
    "df1['Artigo'] = df1['Artigo'].str.strip()\n",
    "df1['Inciso'] = df1['Inciso'].str.strip()\n",
    "\n",
    "# Verificando os valores únicos da coluna 'Artigo'\n",
    "print(df1['Artigo'].unique())"
   ]
  },
  {
   "cell_type": "markdown",
   "id": "a5a2d695",
   "metadata": {},
   "source": [
    "Tem valores errados pra o artigo. Valores como: 'SENTIDO OLINDA', 'ILHA DO LEITE', 'SENTIDO CIDADE/SUBURBIO.'e 'Art. 244 inciso VIII'"
   ]
  },
  {
   "cell_type": "code",
   "execution_count": 70,
   "id": "c168241f",
   "metadata": {},
   "outputs": [],
   "source": [
    "# Apaga a coluna 'amparolegal' do DataFrame\n",
    "df1 = df1.drop(columns=['amparolegal'])"
   ]
  },
  {
   "cell_type": "code",
   "execution_count": 64,
   "id": "27838ef6",
   "metadata": {},
   "outputs": [
    {
     "name": "stdout",
     "output_type": "stream",
     "text": [
      "Ocorrências de 'SENTIDO OLINDA': 1\n",
      "Ocorrências de 'ILHA DO LEITE': 1\n",
      "Ocorrências de 'SENTIDO CIDADE/SUBURBIO.': 1\n",
      "Ocorrências de 'Art. 244 inciso VIII': 1\n"
     ]
    }
   ],
   "source": [
    "# Conta as ocorrências dos valores específicos na coluna 'Artigo'\n",
    "valores_problema = [\n",
    "    'SENTIDO OLINDA',\n",
    "    'ILHA DO LEITE',\n",
    "    'SENTIDO CIDADE/SUBURBIO.',\n",
    "    'Art. 244 inciso VIII'\n",
    "]\n",
    "\n",
    "for valor in valores_problema:\n",
    "    count = (df1['Artigo'] == valor).sum()\n",
    "    print(f\"Ocorrências de '{valor}': {count}\")"
   ]
  },
  {
   "cell_type": "code",
   "execution_count": 65,
   "id": "c152bc34",
   "metadata": {},
   "outputs": [],
   "source": [
    "# Seleciona a linha com o valor específico\n",
    "mask = df1['Artigo'] == 'Art. 244 inciso VIII'\n",
    "\n",
    "# Atualiza a coluna Artigo para 'Art. 244'\n",
    "df1.loc[mask, 'Artigo'] = 'Art. 244'\n",
    "\n",
    "# Atualiza a coluna Inciso para 'inciso VIII'\n",
    "df1.loc[mask, 'Inciso'] = 'inciso VIII'"
   ]
  },
  {
   "cell_type": "code",
   "execution_count": 66,
   "id": "f814f442",
   "metadata": {},
   "outputs": [],
   "source": [
    "# Remove as linhas com valores sem sentido na coluna 'Artigo'\n",
    "df1 = df1[~df1['Artigo'].isin(['SENTIDO OLINDA', 'ILHA DO LEITE', 'SENTIDO CIDADE/SUBURBIO.'])]"
   ]
  },
  {
   "cell_type": "code",
   "execution_count": 67,
   "id": "fb8b1950",
   "metadata": {},
   "outputs": [
    {
     "data": {
      "text/plain": [
       "array(['Art. 250', 'Art. 195', 'Art. 170', 'Art. 181', 'Art. 185',\n",
       "       'Art. 208', 'Art. 252', 'Art. 167', 'Art. 218', 'Art. 187',\n",
       "       'Art. 183', 'Art. 207', 'Art. 178', 'Art. 184', 'Art. 244',\n",
       "       'Art. 186', 'Art. 182', 'Art. 230', 'Art. 201', 'Art. 196',\n",
       "       'Art. 206', 'Art. 169', 'ARt. 181', 'Art. 193', 'Art. 197',\n",
       "       'Art. 162', 'Art. 221', 'Art. 210', 'Art. 175', 'Art. 171',\n",
       "       'Art. 211', 'Art. 227', 'Art. 203', 'Art. 214', 'Art. 164',\n",
       "       'Art. 172', 'Art. 216', 'Art. 173', 'Art. 194', 'Art. 174',\n",
       "       'Art. 165-A', 'Art. 163', 'Art.168', 'Art. 220', 'Art. 231',\n",
       "       'Art. 189', 'Art. 215', 'Art. 236', 'Art. 209', 'Art. 191',\n",
       "       'Art. 180', 'Art. 253', 'Art. 232', 'Art. 228', 'Art. 229',\n",
       "       'Art. 239', 'Art. 238', 'Art. 278', 'Art. 165', 'Art. 176',\n",
       "       'Art. 235', 'Art. 205', 'Art. 192', 'Art. 190', 'Art.244',\n",
       "       'Art. 202', 'Art. 204', 'Art. 251', 'Art. 188', 'Art. 223',\n",
       "       'Art. 199', 'Art. 254', 'Art. 224', 'Art. 253-A', 'Art. 246',\n",
       "       'Art. 225'], dtype=object)"
      ]
     },
     "execution_count": 67,
     "metadata": {},
     "output_type": "execute_result"
    }
   ],
   "source": [
    "df1['Artigo'].unique()"
   ]
  },
  {
   "cell_type": "code",
   "execution_count": 68,
   "id": "ac40e62d",
   "metadata": {},
   "outputs": [
    {
     "data": {
      "text/plain": [
       "array(['Inc. I, alínea a', None, 'Inc. XVIII', 'Inc. VIII', 'Inc. I',\n",
       "       '§único', 'Inc. II', 'Inc. III', 'Inc. XVII', 'Inc. IX', 'Inc. IV',\n",
       "       'X', 'Inc. VII', 'Inc. VI', 'Inc. X', 'Inc. XIII', 'Inc. XI',\n",
       "       'Inc. XIX', 'Inc. V', 'inc. XX', 'Inc. XXII', 'Inc. XV', 'XI',\n",
       "       'c/c Art. 162, Inc. I', 'c/c Art. 162, Inc. V', 'Inc. XIV', 'I, b',\n",
       "       'Inc. II, alínea a', 'Inc. XVI', '§ único c/c 210', 'I, d',\n",
       "       'c/c Art. 162, Inc. III', 'Inc. XII', 'Inc. III, c/c §1º',\n",
       "       '§ 1º, alínea c', 'Inc. VII, c/c §1º', 'c/c Art. 162, Inc. II',\n",
       "       'c/c Art. 162, Inc. VI', '§ 1º, alínea a', 'inciso VIII',\n",
       "       'Inc. I, alínea b', '§1º', 'parágrafo único'], dtype=object)"
      ]
     },
     "execution_count": 68,
     "metadata": {},
     "output_type": "execute_result"
    }
   ],
   "source": [
    "df1['Inciso'].unique()"
   ]
  },
  {
   "cell_type": "code",
   "execution_count": 71,
   "id": "84f07436",
   "metadata": {},
   "outputs": [
    {
     "data": {
      "text/html": [
       "<div>\n",
       "<style scoped>\n",
       "    .dataframe tbody tr th:only-of-type {\n",
       "        vertical-align: middle;\n",
       "    }\n",
       "\n",
       "    .dataframe tbody tr th {\n",
       "        vertical-align: top;\n",
       "    }\n",
       "\n",
       "    .dataframe thead th {\n",
       "        text-align: right;\n",
       "    }\n",
       "</style>\n",
       "<table border=\"1\" class=\"dataframe\">\n",
       "  <thead>\n",
       "    <tr style=\"text-align: right;\">\n",
       "      <th></th>\n",
       "      <th>datainfracao</th>\n",
       "      <th>horainfracao</th>\n",
       "      <th>dataimplantacao</th>\n",
       "      <th>agenteequipamento</th>\n",
       "      <th>infracao</th>\n",
       "      <th>descricaoinfracao</th>\n",
       "      <th>localcometimento</th>\n",
       "      <th>Artigo</th>\n",
       "      <th>Inciso</th>\n",
       "    </tr>\n",
       "  </thead>\n",
       "  <tbody>\n",
       "    <tr>\n",
       "      <th>0</th>\n",
       "      <td>2023-01-01</td>\n",
       "      <td>00:01:00</td>\n",
       "      <td>2023-01-06</td>\n",
       "      <td>Código 8 - AUTOS NO TALÃO ELETRÔNICO</td>\n",
       "      <td>7234</td>\n",
       "      <td>Quando o veículo estiver em movimento deixar d...</td>\n",
       "      <td>RUA RIBEIRO DE BRITO, SOB O SEMAFORO N. 155   ...</td>\n",
       "      <td>Art. 250</td>\n",
       "      <td>Inc. I, alínea a</td>\n",
       "    </tr>\n",
       "    <tr>\n",
       "      <th>1</th>\n",
       "      <td>2023-01-01</td>\n",
       "      <td>00:27:00</td>\n",
       "      <td>2023-01-06</td>\n",
       "      <td>Código 8 - AUTOS NO TALÃO ELETRÔNICO</td>\n",
       "      <td>5835</td>\n",
       "      <td>Desobedecer às ordens emanadas da autoridade c...</td>\n",
       "      <td>RUA DOS NAVEGANTES, CRUZAMENTO COM A RUA PADRE...</td>\n",
       "      <td>Art. 195</td>\n",
       "      <td>None</td>\n",
       "    </tr>\n",
       "    <tr>\n",
       "      <th>2</th>\n",
       "      <td>2023-01-01</td>\n",
       "      <td>00:27:00</td>\n",
       "      <td>2023-01-06</td>\n",
       "      <td>Código 8 - AUTOS NO TALÃO ELETRÔNICO</td>\n",
       "      <td>5215</td>\n",
       "      <td>Dirigir ameaçando os pedestres que estejam atr...</td>\n",
       "      <td>RUA DOS NAVEGANTES, CRUZAMENTO COM A RUA PADRE...</td>\n",
       "      <td>Art. 170</td>\n",
       "      <td>None</td>\n",
       "    </tr>\n",
       "    <tr>\n",
       "      <th>3</th>\n",
       "      <td>2023-01-01</td>\n",
       "      <td>00:52:00</td>\n",
       "      <td>2023-01-06</td>\n",
       "      <td>Código 8 - AUTOS NO TALÃO ELETRÔNICO</td>\n",
       "      <td>5550</td>\n",
       "      <td>Estacionar o veículo em locais e horários proi...</td>\n",
       "      <td>AVENIDA ENGENHEIRO DOMINGOS FERREIRA, EM FRENT...</td>\n",
       "      <td>Art. 181</td>\n",
       "      <td>Inc. XVIII</td>\n",
       "    </tr>\n",
       "    <tr>\n",
       "      <th>4</th>\n",
       "      <td>2023-01-01</td>\n",
       "      <td>00:52:00</td>\n",
       "      <td>2023-01-06</td>\n",
       "      <td>Código 8 - AUTOS NO TALÃO ELETRÔNICO</td>\n",
       "      <td>5550</td>\n",
       "      <td>Estacionar o veículo em locais e horários proi...</td>\n",
       "      <td>AVENIDA ENGENHEIRO DOMINGOS FERREIRA, EM FRENT...</td>\n",
       "      <td>Art. 181</td>\n",
       "      <td>Inc. XVIII</td>\n",
       "    </tr>\n",
       "  </tbody>\n",
       "</table>\n",
       "</div>"
      ],
      "text/plain": [
       "  datainfracao horainfracao dataimplantacao  \\\n",
       "0   2023-01-01     00:01:00      2023-01-06   \n",
       "1   2023-01-01     00:27:00      2023-01-06   \n",
       "2   2023-01-01     00:27:00      2023-01-06   \n",
       "3   2023-01-01     00:52:00      2023-01-06   \n",
       "4   2023-01-01     00:52:00      2023-01-06   \n",
       "\n",
       "                       agenteequipamento  infracao  \\\n",
       "0  Código 8 - AUTOS NO TALÃO ELETRÔNICO       7234   \n",
       "1  Código 8 - AUTOS NO TALÃO ELETRÔNICO       5835   \n",
       "2  Código 8 - AUTOS NO TALÃO ELETRÔNICO       5215   \n",
       "3  Código 8 - AUTOS NO TALÃO ELETRÔNICO       5550   \n",
       "4  Código 8 - AUTOS NO TALÃO ELETRÔNICO       5550   \n",
       "\n",
       "                                   descricaoinfracao  \\\n",
       "0  Quando o veículo estiver em movimento deixar d...   \n",
       "1  Desobedecer às ordens emanadas da autoridade c...   \n",
       "2  Dirigir ameaçando os pedestres que estejam atr...   \n",
       "3  Estacionar o veículo em locais e horários proi...   \n",
       "4  Estacionar o veículo em locais e horários proi...   \n",
       "\n",
       "                                    localcometimento    Artigo  \\\n",
       "0  RUA RIBEIRO DE BRITO, SOB O SEMAFORO N. 155   ...  Art. 250   \n",
       "1  RUA DOS NAVEGANTES, CRUZAMENTO COM A RUA PADRE...  Art. 195   \n",
       "2  RUA DOS NAVEGANTES, CRUZAMENTO COM A RUA PADRE...  Art. 170   \n",
       "3  AVENIDA ENGENHEIRO DOMINGOS FERREIRA, EM FRENT...  Art. 181   \n",
       "4  AVENIDA ENGENHEIRO DOMINGOS FERREIRA, EM FRENT...  Art. 181   \n",
       "\n",
       "             Inciso  \n",
       "0  Inc. I, alínea a  \n",
       "1              None  \n",
       "2              None  \n",
       "3        Inc. XVIII  \n",
       "4        Inc. XVIII  "
      ]
     },
     "execution_count": 71,
     "metadata": {},
     "output_type": "execute_result"
    }
   ],
   "source": [
    "df1.head()"
   ]
  }
 ],
 "metadata": {
  "kernelspec": {
   "display_name": "Python 3",
   "language": "python",
   "name": "python3"
  },
  "language_info": {
   "codemirror_mode": {
    "name": "ipython",
    "version": 3
   },
   "file_extension": ".py",
   "mimetype": "text/x-python",
   "name": "python",
   "nbconvert_exporter": "python",
   "pygments_lexer": "ipython3",
   "version": "3.11.9"
  }
 },
 "nbformat": 4,
 "nbformat_minor": 5
}
