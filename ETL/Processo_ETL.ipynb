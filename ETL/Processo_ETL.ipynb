{
 "cells": [
  {
   "cell_type": "markdown",
   "id": "510e629b",
   "metadata": {},
   "source": [
    "## Trazendo as planilhas e Importando Bibliotecas"
   ]
  },
  {
   "cell_type": "code",
   "execution_count": 2,
   "id": "ce19fede",
   "metadata": {},
   "outputs": [],
   "source": [
    "# Bibliotecas:\n",
    "import pandas as pd"
   ]
  },
  {
   "cell_type": "markdown",
   "id": "d4a26d3e",
   "metadata": {},
   "source": [
    "## Carregando Dataset Concatenado"
   ]
  },
  {
   "cell_type": "code",
   "execution_count": 3,
   "id": "c2d26b1e",
   "metadata": {},
   "outputs": [
    {
     "name": "stderr",
     "output_type": "stream",
     "text": [
      "C:\\Users\\zovka\\AppData\\Local\\Temp\\ipykernel_11932\\1680298744.py:1: DtypeWarning: Columns (3) have mixed types. Specify dtype option on import or set low_memory=False.\n",
      "  dft = pd.read_csv(\"../datasets/dataset_final.csv\", sep=';')\n"
     ]
    }
   ],
   "source": [
    "dft = pd.read_csv(\"../datasets/dataset_final.csv\", sep=';')"
   ]
  },
  {
   "cell_type": "markdown",
   "id": "94c38e6d",
   "metadata": {},
   "source": [
    "## Visualizar informações das tabelas"
   ]
  },
  {
   "cell_type": "code",
   "execution_count": null,
   "id": "301dc7b9",
   "metadata": {},
   "outputs": [
    {
     "data": {
      "text/html": [
       "<div>\n",
       "<style scoped>\n",
       "    .dataframe tbody tr th:only-of-type {\n",
       "        vertical-align: middle;\n",
       "    }\n",
       "\n",
       "    .dataframe tbody tr th {\n",
       "        vertical-align: top;\n",
       "    }\n",
       "\n",
       "    .dataframe thead th {\n",
       "        text-align: right;\n",
       "    }\n",
       "</style>\n",
       "<table border=\"1\" class=\"dataframe\">\n",
       "  <thead>\n",
       "    <tr style=\"text-align: right;\">\n",
       "      <th></th>\n",
       "      <th>datainfracao</th>\n",
       "      <th>horainfracao</th>\n",
       "      <th>dataimplantacao</th>\n",
       "      <th>agenteequipamento</th>\n",
       "      <th>infracao</th>\n",
       "      <th>descricaoinfracao</th>\n",
       "      <th>amparolegal</th>\n",
       "      <th>localcometimento</th>\n",
       "    </tr>\n",
       "  </thead>\n",
       "  <tbody>\n",
       "    <tr>\n",
       "      <th>0</th>\n",
       "      <td>2023-01-01</td>\n",
       "      <td>00:01:00</td>\n",
       "      <td>2023-01-06</td>\n",
       "      <td>Código 8 - AUTOS NO TALÃO ELETRÔNICO</td>\n",
       "      <td>7234</td>\n",
       "      <td>Quando o veículo estiver em movimento deixar d...</td>\n",
       "      <td>Art. 250, Inc. I, alínea a</td>\n",
       "      <td>RUA RIBEIRO DE BRITO, SOB O SEMAFORO N. 155   ...</td>\n",
       "    </tr>\n",
       "    <tr>\n",
       "      <th>1</th>\n",
       "      <td>2023-01-01</td>\n",
       "      <td>00:27:00</td>\n",
       "      <td>2023-01-06</td>\n",
       "      <td>Código 8 - AUTOS NO TALÃO ELETRÔNICO</td>\n",
       "      <td>5835</td>\n",
       "      <td>Desobedecer às ordens emanadas da autoridade c...</td>\n",
       "      <td>Art. 195</td>\n",
       "      <td>RUA DOS NAVEGANTES, CRUZAMENTO COM A RUA PADRE...</td>\n",
       "    </tr>\n",
       "    <tr>\n",
       "      <th>2</th>\n",
       "      <td>2023-01-01</td>\n",
       "      <td>00:27:00</td>\n",
       "      <td>2023-01-06</td>\n",
       "      <td>Código 8 - AUTOS NO TALÃO ELETRÔNICO</td>\n",
       "      <td>5215</td>\n",
       "      <td>Dirigir ameaçando os pedestres que estejam atr...</td>\n",
       "      <td>Art. 170</td>\n",
       "      <td>RUA DOS NAVEGANTES, CRUZAMENTO COM A RUA PADRE...</td>\n",
       "    </tr>\n",
       "    <tr>\n",
       "      <th>3</th>\n",
       "      <td>2023-01-01</td>\n",
       "      <td>00:52:00</td>\n",
       "      <td>2023-01-06</td>\n",
       "      <td>Código 8 - AUTOS NO TALÃO ELETRÔNICO</td>\n",
       "      <td>5550</td>\n",
       "      <td>Estacionar o veículo em locais e horários proi...</td>\n",
       "      <td>Art. 181, Inc. XVIII</td>\n",
       "      <td>AVENIDA ENGENHEIRO DOMINGOS FERREIRA, EM FRENT...</td>\n",
       "    </tr>\n",
       "    <tr>\n",
       "      <th>4</th>\n",
       "      <td>2023-01-01</td>\n",
       "      <td>00:52:00</td>\n",
       "      <td>2023-01-06</td>\n",
       "      <td>Código 8 - AUTOS NO TALÃO ELETRÔNICO</td>\n",
       "      <td>5550</td>\n",
       "      <td>Estacionar o veículo em locais e horários proi...</td>\n",
       "      <td>Art. 181, Inc. XVIII</td>\n",
       "      <td>AVENIDA ENGENHEIRO DOMINGOS FERREIRA, EM FRENT...</td>\n",
       "    </tr>\n",
       "  </tbody>\n",
       "</table>\n",
       "</div>"
      ],
      "text/plain": [
       "  datainfracao horainfracao dataimplantacao  \\\n",
       "0   2023-01-01     00:01:00      2023-01-06   \n",
       "1   2023-01-01     00:27:00      2023-01-06   \n",
       "2   2023-01-01     00:27:00      2023-01-06   \n",
       "3   2023-01-01     00:52:00      2023-01-06   \n",
       "4   2023-01-01     00:52:00      2023-01-06   \n",
       "\n",
       "                       agenteequipamento  infracao  \\\n",
       "0  Código 8 - AUTOS NO TALÃO ELETRÔNICO       7234   \n",
       "1  Código 8 - AUTOS NO TALÃO ELETRÔNICO       5835   \n",
       "2  Código 8 - AUTOS NO TALÃO ELETRÔNICO       5215   \n",
       "3  Código 8 - AUTOS NO TALÃO ELETRÔNICO       5550   \n",
       "4  Código 8 - AUTOS NO TALÃO ELETRÔNICO       5550   \n",
       "\n",
       "                                   descricaoinfracao  \\\n",
       "0  Quando o veículo estiver em movimento deixar d...   \n",
       "1  Desobedecer às ordens emanadas da autoridade c...   \n",
       "2  Dirigir ameaçando os pedestres que estejam atr...   \n",
       "3  Estacionar o veículo em locais e horários proi...   \n",
       "4  Estacionar o veículo em locais e horários proi...   \n",
       "\n",
       "                        amparolegal  \\\n",
       "0  Art. 250, Inc. I, alínea a         \n",
       "1  Art. 195                           \n",
       "2  Art. 170                           \n",
       "3  Art. 181, Inc. XVIII               \n",
       "4  Art. 181, Inc. XVIII               \n",
       "\n",
       "                                    localcometimento  \n",
       "0  RUA RIBEIRO DE BRITO, SOB O SEMAFORO N. 155   ...  \n",
       "1  RUA DOS NAVEGANTES, CRUZAMENTO COM A RUA PADRE...  \n",
       "2  RUA DOS NAVEGANTES, CRUZAMENTO COM A RUA PADRE...  \n",
       "3  AVENIDA ENGENHEIRO DOMINGOS FERREIRA, EM FRENT...  \n",
       "4  AVENIDA ENGENHEIRO DOMINGOS FERREIRA, EM FRENT...  "
      ]
     },
     "execution_count": 4,
     "metadata": {},
     "output_type": "execute_result"
    }
   ],
   "source": [
    "dft.head()"
   ]
  },
  {
   "cell_type": "code",
   "execution_count": 5,
   "id": "52817ac6",
   "metadata": {},
   "outputs": [
    {
     "name": "stdout",
     "output_type": "stream",
     "text": [
      "<class 'pandas.core.frame.DataFrame'>\n",
      "RangeIndex: 964796 entries, 0 to 964795\n",
      "Data columns (total 8 columns):\n",
      " #   Column             Non-Null Count   Dtype \n",
      "---  ------             --------------   ----- \n",
      " 0   datainfracao       964796 non-null  object\n",
      " 1   horainfracao       964796 non-null  object\n",
      " 2   dataimplantacao    964796 non-null  object\n",
      " 3   agenteequipamento  964796 non-null  object\n",
      " 4   infracao           964796 non-null  int64 \n",
      " 5   descricaoinfracao  964796 non-null  object\n",
      " 6   amparolegal        964796 non-null  object\n",
      " 7   localcometimento   964796 non-null  object\n",
      "dtypes: int64(1), object(7)\n",
      "memory usage: 58.9+ MB\n"
     ]
    }
   ],
   "source": [
    "dft.info()"
   ]
  },
  {
   "cell_type": "markdown",
   "id": "cf3e8de2",
   "metadata": {},
   "source": [
    "As bases não tem valores nulos, inválidos ou duplicados então tornasse possível o tratamento das três panilhas de uma unica vez."
   ]
  },
  {
   "cell_type": "markdown",
   "id": "8040652d",
   "metadata": {},
   "source": [
    "## Tratamento dos dados"
   ]
  },
  {
   "cell_type": "markdown",
   "id": "4da93e8e",
   "metadata": {},
   "source": [
    "###Renomeando as colunas"
   ]
  },
  {
   "cell_type": "code",
   "execution_count": 8,
   "id": "f26fe601",
   "metadata": {},
   "outputs": [],
   "source": [
    "dft = dft.rename(columns={\n",
    "    'datainfracao': 'data_infracao',\n",
    "    'horainfracao': 'hora_infracao',\n",
    "    'dataimplantacao': 'data_implantacao',\n",
    "    'agenteequipamento': 'agente_equipamento',\n",
    "    'infracao': 'cod_infracao',\n",
    "    'descricaoinfracao': 'descricao_infracao',\n",
    "    'amparolegal': 'amparo_legal',\n",
    "    'localcometimento': 'local_cometimento'\n",
    "})"
   ]
  },
  {
   "cell_type": "code",
   "execution_count": 7,
   "id": "47dad50c",
   "metadata": {},
   "outputs": [
    {
     "data": {
      "text/html": [
       "<div>\n",
       "<style scoped>\n",
       "    .dataframe tbody tr th:only-of-type {\n",
       "        vertical-align: middle;\n",
       "    }\n",
       "\n",
       "    .dataframe tbody tr th {\n",
       "        vertical-align: top;\n",
       "    }\n",
       "\n",
       "    .dataframe thead th {\n",
       "        text-align: right;\n",
       "    }\n",
       "</style>\n",
       "<table border=\"1\" class=\"dataframe\">\n",
       "  <thead>\n",
       "    <tr style=\"text-align: right;\">\n",
       "      <th></th>\n",
       "      <th>data_infracao</th>\n",
       "      <th>hora_infracao</th>\n",
       "      <th>data_implantacao</th>\n",
       "      <th>agente_equipamento</th>\n",
       "      <th>cod_infracao</th>\n",
       "      <th>descricao_infracao</th>\n",
       "      <th>amparo_legal</th>\n",
       "      <th>local_cometimento</th>\n",
       "    </tr>\n",
       "  </thead>\n",
       "  <tbody>\n",
       "    <tr>\n",
       "      <th>0</th>\n",
       "      <td>2023-01-01</td>\n",
       "      <td>00:01:00</td>\n",
       "      <td>2023-01-06</td>\n",
       "      <td>Código 8 - AUTOS NO TALÃO ELETRÔNICO</td>\n",
       "      <td>7234</td>\n",
       "      <td>Quando o veículo estiver em movimento deixar d...</td>\n",
       "      <td>Art. 250, Inc. I, alínea a</td>\n",
       "      <td>RUA RIBEIRO DE BRITO, SOB O SEMAFORO N. 155   ...</td>\n",
       "    </tr>\n",
       "    <tr>\n",
       "      <th>1</th>\n",
       "      <td>2023-01-01</td>\n",
       "      <td>00:27:00</td>\n",
       "      <td>2023-01-06</td>\n",
       "      <td>Código 8 - AUTOS NO TALÃO ELETRÔNICO</td>\n",
       "      <td>5835</td>\n",
       "      <td>Desobedecer às ordens emanadas da autoridade c...</td>\n",
       "      <td>Art. 195</td>\n",
       "      <td>RUA DOS NAVEGANTES, CRUZAMENTO COM A RUA PADRE...</td>\n",
       "    </tr>\n",
       "    <tr>\n",
       "      <th>2</th>\n",
       "      <td>2023-01-01</td>\n",
       "      <td>00:27:00</td>\n",
       "      <td>2023-01-06</td>\n",
       "      <td>Código 8 - AUTOS NO TALÃO ELETRÔNICO</td>\n",
       "      <td>5215</td>\n",
       "      <td>Dirigir ameaçando os pedestres que estejam atr...</td>\n",
       "      <td>Art. 170</td>\n",
       "      <td>RUA DOS NAVEGANTES, CRUZAMENTO COM A RUA PADRE...</td>\n",
       "    </tr>\n",
       "    <tr>\n",
       "      <th>3</th>\n",
       "      <td>2023-01-01</td>\n",
       "      <td>00:52:00</td>\n",
       "      <td>2023-01-06</td>\n",
       "      <td>Código 8 - AUTOS NO TALÃO ELETRÔNICO</td>\n",
       "      <td>5550</td>\n",
       "      <td>Estacionar o veículo em locais e horários proi...</td>\n",
       "      <td>Art. 181, Inc. XVIII</td>\n",
       "      <td>AVENIDA ENGENHEIRO DOMINGOS FERREIRA, EM FRENT...</td>\n",
       "    </tr>\n",
       "    <tr>\n",
       "      <th>4</th>\n",
       "      <td>2023-01-01</td>\n",
       "      <td>00:52:00</td>\n",
       "      <td>2023-01-06</td>\n",
       "      <td>Código 8 - AUTOS NO TALÃO ELETRÔNICO</td>\n",
       "      <td>5550</td>\n",
       "      <td>Estacionar o veículo em locais e horários proi...</td>\n",
       "      <td>Art. 181, Inc. XVIII</td>\n",
       "      <td>AVENIDA ENGENHEIRO DOMINGOS FERREIRA, EM FRENT...</td>\n",
       "    </tr>\n",
       "  </tbody>\n",
       "</table>\n",
       "</div>"
      ],
      "text/plain": [
       "  data_infracao hora_infracao data_implantacao  \\\n",
       "0    2023-01-01      00:01:00       2023-01-06   \n",
       "1    2023-01-01      00:27:00       2023-01-06   \n",
       "2    2023-01-01      00:27:00       2023-01-06   \n",
       "3    2023-01-01      00:52:00       2023-01-06   \n",
       "4    2023-01-01      00:52:00       2023-01-06   \n",
       "\n",
       "                      agente_equipamento  cod_infracao  \\\n",
       "0  Código 8 - AUTOS NO TALÃO ELETRÔNICO           7234   \n",
       "1  Código 8 - AUTOS NO TALÃO ELETRÔNICO           5835   \n",
       "2  Código 8 - AUTOS NO TALÃO ELETRÔNICO           5215   \n",
       "3  Código 8 - AUTOS NO TALÃO ELETRÔNICO           5550   \n",
       "4  Código 8 - AUTOS NO TALÃO ELETRÔNICO           5550   \n",
       "\n",
       "                                  descricao_infracao  \\\n",
       "0  Quando o veículo estiver em movimento deixar d...   \n",
       "1  Desobedecer às ordens emanadas da autoridade c...   \n",
       "2  Dirigir ameaçando os pedestres que estejam atr...   \n",
       "3  Estacionar o veículo em locais e horários proi...   \n",
       "4  Estacionar o veículo em locais e horários proi...   \n",
       "\n",
       "                       amparo_legal  \\\n",
       "0  Art. 250, Inc. I, alínea a         \n",
       "1  Art. 195                           \n",
       "2  Art. 170                           \n",
       "3  Art. 181, Inc. XVIII               \n",
       "4  Art. 181, Inc. XVIII               \n",
       "\n",
       "                                   local_cometimento  \n",
       "0  RUA RIBEIRO DE BRITO, SOB O SEMAFORO N. 155   ...  \n",
       "1  RUA DOS NAVEGANTES, CRUZAMENTO COM A RUA PADRE...  \n",
       "2  RUA DOS NAVEGANTES, CRUZAMENTO COM A RUA PADRE...  \n",
       "3  AVENIDA ENGENHEIRO DOMINGOS FERREIRA, EM FRENT...  \n",
       "4  AVENIDA ENGENHEIRO DOMINGOS FERREIRA, EM FRENT...  "
      ]
     },
     "execution_count": 7,
     "metadata": {},
     "output_type": "execute_result"
    }
   ],
   "source": [
    "dft.head()"
   ]
  },
  {
   "cell_type": "markdown",
   "id": "a4ba24cf",
   "metadata": {},
   "source": [
    "### Coluna amparolegal\n"
   ]
  },
  {
   "cell_type": "code",
   "execution_count": 9,
   "id": "bb63e738",
   "metadata": {},
   "outputs": [],
   "source": [
    "dft[['Artigo', 'Inciso']] = dft['amparo_legal'].str.split(',', n=1, expand=True)"
   ]
  },
  {
   "cell_type": "code",
   "execution_count": 10,
   "id": "a1a42014",
   "metadata": {},
   "outputs": [],
   "source": [
    "dft['Artigo'] = dft['Artigo'].str.strip()\n",
    "dft['Inciso'] = dft['Inciso'].str.strip()"
   ]
  },
  {
   "cell_type": "code",
   "execution_count": 11,
   "id": "1195a6d3",
   "metadata": {},
   "outputs": [],
   "source": [
    "dft.drop('amparo_legal', axis = 1, inplace=True)"
   ]
  },
  {
   "cell_type": "code",
   "execution_count": 11,
   "id": "c2c6a994",
   "metadata": {},
   "outputs": [
    {
     "data": {
      "text/html": [
       "<div>\n",
       "<style scoped>\n",
       "    .dataframe tbody tr th:only-of-type {\n",
       "        vertical-align: middle;\n",
       "    }\n",
       "\n",
       "    .dataframe tbody tr th {\n",
       "        vertical-align: top;\n",
       "    }\n",
       "\n",
       "    .dataframe thead th {\n",
       "        text-align: right;\n",
       "    }\n",
       "</style>\n",
       "<table border=\"1\" class=\"dataframe\">\n",
       "  <thead>\n",
       "    <tr style=\"text-align: right;\">\n",
       "      <th></th>\n",
       "      <th>data_infracao</th>\n",
       "      <th>hora_infracao</th>\n",
       "      <th>data_implantacao</th>\n",
       "      <th>agente_equipamento</th>\n",
       "      <th>cod_infracao</th>\n",
       "      <th>descricao_infracao</th>\n",
       "      <th>local_cometimento</th>\n",
       "      <th>Artigo</th>\n",
       "      <th>Inciso</th>\n",
       "    </tr>\n",
       "  </thead>\n",
       "  <tbody>\n",
       "    <tr>\n",
       "      <th>0</th>\n",
       "      <td>2023-01-01</td>\n",
       "      <td>00:01:00</td>\n",
       "      <td>2023-01-06</td>\n",
       "      <td>Código 8 - AUTOS NO TALÃO ELETRÔNICO</td>\n",
       "      <td>7234</td>\n",
       "      <td>Quando o veículo estiver em movimento deixar d...</td>\n",
       "      <td>RUA RIBEIRO DE BRITO, SOB O SEMAFORO N. 155   ...</td>\n",
       "      <td>Art. 250</td>\n",
       "      <td>Inc. I, alínea a</td>\n",
       "    </tr>\n",
       "    <tr>\n",
       "      <th>1</th>\n",
       "      <td>2023-01-01</td>\n",
       "      <td>00:27:00</td>\n",
       "      <td>2023-01-06</td>\n",
       "      <td>Código 8 - AUTOS NO TALÃO ELETRÔNICO</td>\n",
       "      <td>5835</td>\n",
       "      <td>Desobedecer às ordens emanadas da autoridade c...</td>\n",
       "      <td>RUA DOS NAVEGANTES, CRUZAMENTO COM A RUA PADRE...</td>\n",
       "      <td>Art. 195</td>\n",
       "      <td>None</td>\n",
       "    </tr>\n",
       "    <tr>\n",
       "      <th>2</th>\n",
       "      <td>2023-01-01</td>\n",
       "      <td>00:27:00</td>\n",
       "      <td>2023-01-06</td>\n",
       "      <td>Código 8 - AUTOS NO TALÃO ELETRÔNICO</td>\n",
       "      <td>5215</td>\n",
       "      <td>Dirigir ameaçando os pedestres que estejam atr...</td>\n",
       "      <td>RUA DOS NAVEGANTES, CRUZAMENTO COM A RUA PADRE...</td>\n",
       "      <td>Art. 170</td>\n",
       "      <td>None</td>\n",
       "    </tr>\n",
       "    <tr>\n",
       "      <th>3</th>\n",
       "      <td>2023-01-01</td>\n",
       "      <td>00:52:00</td>\n",
       "      <td>2023-01-06</td>\n",
       "      <td>Código 8 - AUTOS NO TALÃO ELETRÔNICO</td>\n",
       "      <td>5550</td>\n",
       "      <td>Estacionar o veículo em locais e horários proi...</td>\n",
       "      <td>AVENIDA ENGENHEIRO DOMINGOS FERREIRA, EM FRENT...</td>\n",
       "      <td>Art. 181</td>\n",
       "      <td>Inc. XVIII</td>\n",
       "    </tr>\n",
       "    <tr>\n",
       "      <th>4</th>\n",
       "      <td>2023-01-01</td>\n",
       "      <td>00:52:00</td>\n",
       "      <td>2023-01-06</td>\n",
       "      <td>Código 8 - AUTOS NO TALÃO ELETRÔNICO</td>\n",
       "      <td>5550</td>\n",
       "      <td>Estacionar o veículo em locais e horários proi...</td>\n",
       "      <td>AVENIDA ENGENHEIRO DOMINGOS FERREIRA, EM FRENT...</td>\n",
       "      <td>Art. 181</td>\n",
       "      <td>Inc. XVIII</td>\n",
       "    </tr>\n",
       "  </tbody>\n",
       "</table>\n",
       "</div>"
      ],
      "text/plain": [
       "  data_infracao hora_infracao data_implantacao  \\\n",
       "0    2023-01-01      00:01:00       2023-01-06   \n",
       "1    2023-01-01      00:27:00       2023-01-06   \n",
       "2    2023-01-01      00:27:00       2023-01-06   \n",
       "3    2023-01-01      00:52:00       2023-01-06   \n",
       "4    2023-01-01      00:52:00       2023-01-06   \n",
       "\n",
       "                      agente_equipamento  cod_infracao  \\\n",
       "0  Código 8 - AUTOS NO TALÃO ELETRÔNICO           7234   \n",
       "1  Código 8 - AUTOS NO TALÃO ELETRÔNICO           5835   \n",
       "2  Código 8 - AUTOS NO TALÃO ELETRÔNICO           5215   \n",
       "3  Código 8 - AUTOS NO TALÃO ELETRÔNICO           5550   \n",
       "4  Código 8 - AUTOS NO TALÃO ELETRÔNICO           5550   \n",
       "\n",
       "                                  descricao_infracao  \\\n",
       "0  Quando o veículo estiver em movimento deixar d...   \n",
       "1  Desobedecer às ordens emanadas da autoridade c...   \n",
       "2  Dirigir ameaçando os pedestres que estejam atr...   \n",
       "3  Estacionar o veículo em locais e horários proi...   \n",
       "4  Estacionar o veículo em locais e horários proi...   \n",
       "\n",
       "                                   local_cometimento    Artigo  \\\n",
       "0  RUA RIBEIRO DE BRITO, SOB O SEMAFORO N. 155   ...  Art. 250   \n",
       "1  RUA DOS NAVEGANTES, CRUZAMENTO COM A RUA PADRE...  Art. 195   \n",
       "2  RUA DOS NAVEGANTES, CRUZAMENTO COM A RUA PADRE...  Art. 170   \n",
       "3  AVENIDA ENGENHEIRO DOMINGOS FERREIRA, EM FRENT...  Art. 181   \n",
       "4  AVENIDA ENGENHEIRO DOMINGOS FERREIRA, EM FRENT...  Art. 181   \n",
       "\n",
       "             Inciso  \n",
       "0  Inc. I, alínea a  \n",
       "1              None  \n",
       "2              None  \n",
       "3        Inc. XVIII  \n",
       "4        Inc. XVIII  "
      ]
     },
     "execution_count": 11,
     "metadata": {},
     "output_type": "execute_result"
    }
   ],
   "source": [
    "dft.head()"
   ]
  },
  {
   "cell_type": "code",
   "execution_count": 12,
   "id": "542964c0",
   "metadata": {},
   "outputs": [
    {
     "data": {
      "text/plain": [
       "array(['Art. 250', 'Art. 195', 'Art. 170', 'Art. 181', 'Art. 185',\n",
       "       'Art. 208', 'Art. 252', 'Art. 167', 'Art. 218', 'Art. 187',\n",
       "       'Art. 183', 'Art. 207', 'Art. 178', 'Art. 184', 'Art. 244',\n",
       "       'Art. 186', 'Art. 182', 'Art. 230', 'Art. 201', 'Art. 196',\n",
       "       'Art. 206', 'Art. 169', 'ARt. 181', 'Art. 193', 'Art. 197',\n",
       "       'Art. 162', 'Art. 221', 'Art. 210', 'Art. 175', 'Art. 171',\n",
       "       'Art. 211', 'Art. 227', 'Art. 203', 'Art. 214', 'Art. 164',\n",
       "       'Art. 172', 'Art. 216', 'Art. 173', 'Art. 194', 'Art. 174',\n",
       "       'Art. 165-A', 'Art. 163', 'Art.168', 'Art. 220', 'Art. 231',\n",
       "       'Art. 189', 'Art. 215', 'Art. 236', 'Art. 209', 'Art. 191',\n",
       "       'Art. 180', 'Art. 253', 'Art. 232', 'Art. 228', 'Art. 229',\n",
       "       'Art. 239', 'Art. 238', 'Art. 278', 'Art. 165', 'Art. 176',\n",
       "       'Art. 235', 'Art. 205', 'Art. 192', 'SENTIDO OLINDA', 'Art. 190',\n",
       "       'Art.244', 'Art. 202', 'Art. 244 inciso VIII', 'Art. 204',\n",
       "       'Art. 251', 'Art. 188', 'Art. 223', 'Art. 199', 'Art. 254',\n",
       "       'SENTIDO CIDADE/SUBURBIO.', 'Art. 224', 'ILHA DO LEITE',\n",
       "       'Art. 253-A', 'Art. 246', 'Art. 225', 'Art. 249', 'Art. 212',\n",
       "       'Art. 200', 'AO POSTE N. H027335', 'NOSSA SENHORA DO CARMO',\n",
       "       'Art. 213'], dtype=object)"
      ]
     },
     "execution_count": 12,
     "metadata": {},
     "output_type": "execute_result"
    }
   ],
   "source": [
    "dft['Artigo'].unique()"
   ]
  },
  {
   "cell_type": "markdown",
   "id": "3a2ab172",
   "metadata": {},
   "source": [
    "Tem valores errados pra o artigo. Valores como: 'SENTIDO OLINDA', 'ILHA DO LEITE', 'SENTIDO CIDADE/SUBURBIO.'e 'Art. 244 inciso VIII'"
   ]
  },
  {
   "cell_type": "code",
   "execution_count": 12,
   "id": "092387e7",
   "metadata": {},
   "outputs": [
    {
     "data": {
      "text/html": [
       "<div>\n",
       "<style scoped>\n",
       "    .dataframe tbody tr th:only-of-type {\n",
       "        vertical-align: middle;\n",
       "    }\n",
       "\n",
       "    .dataframe tbody tr th {\n",
       "        vertical-align: top;\n",
       "    }\n",
       "\n",
       "    .dataframe thead th {\n",
       "        text-align: right;\n",
       "    }\n",
       "</style>\n",
       "<table border=\"1\" class=\"dataframe\">\n",
       "  <thead>\n",
       "    <tr style=\"text-align: right;\">\n",
       "      <th></th>\n",
       "      <th>data_infracao</th>\n",
       "      <th>hora_infracao</th>\n",
       "      <th>data_implantacao</th>\n",
       "      <th>agente_equipamento</th>\n",
       "      <th>cod_infracao</th>\n",
       "      <th>descricao_infracao</th>\n",
       "      <th>local_cometimento</th>\n",
       "      <th>Artigo</th>\n",
       "      <th>Inciso</th>\n",
       "    </tr>\n",
       "  </thead>\n",
       "  <tbody>\n",
       "    <tr>\n",
       "      <th>97799</th>\n",
       "      <td>2023-02-27</td>\n",
       "      <td>15:24:00</td>\n",
       "      <td>2023-03-03</td>\n",
       "      <td>Código 8 - AUTOS NO TALÃO ELETRÔNICO</td>\n",
       "      <td>7633</td>\n",
       "      <td>Dirigir o veículo segurando o telefone celular...</td>\n",
       "      <td>AVENIDA GOVERNADOR AGAMENON MAGALHAES, SOB O S...</td>\n",
       "      <td>SENTIDO OLINDA</td>\n",
       "      <td>None</td>\n",
       "    </tr>\n",
       "    <tr>\n",
       "      <th>156220</th>\n",
       "      <td>2023-04-05</td>\n",
       "      <td>15:55:00</td>\n",
       "      <td>2023-04-11</td>\n",
       "      <td>Código 8 - AUTOS NO TALÃO ELETRÔNICO</td>\n",
       "      <td>7102</td>\n",
       "      <td>Conduzir motoc/moton/transportando carga em de...</td>\n",
       "      <td>AVENIDA RECIFE, EM FRENTE AO N. 5008 SENTIDO B...</td>\n",
       "      <td>Art. 244 inciso VIII</td>\n",
       "      <td>None</td>\n",
       "    </tr>\n",
       "    <tr>\n",
       "      <th>339560</th>\n",
       "      <td>2023-08-24</td>\n",
       "      <td>15:54:00</td>\n",
       "      <td>2023-09-01</td>\n",
       "      <td>Código 8 - AUTOS NO TALÃO ELETRÔNICO</td>\n",
       "      <td>5819</td>\n",
       "      <td>Transitar com veículo em canteiros centrais di...</td>\n",
       "      <td>PRACA DO CAXANGA, LADO OPOSTO AO N. ,2831     ...</td>\n",
       "      <td>SENTIDO CIDADE/SUBURBIO.</td>\n",
       "      <td>None</td>\n",
       "    </tr>\n",
       "    <tr>\n",
       "      <th>390173</th>\n",
       "      <td>2023-10-03</td>\n",
       "      <td>08:34:00</td>\n",
       "      <td>2023-10-05</td>\n",
       "      <td>Código 8 - AUTOS NO TALÃO ELETRÔNICO</td>\n",
       "      <td>6050</td>\n",
       "      <td>Avançar o sinal vermelho do semáforo, exceto o...</td>\n",
       "      <td>RUA PAISSANDU, SOB O SEMAFORO N. 069          ...</td>\n",
       "      <td>ILHA DO LEITE</td>\n",
       "      <td>SENTIDO BOA VIAGE</td>\n",
       "    </tr>\n",
       "    <tr>\n",
       "      <th>646544</th>\n",
       "      <td>11/06/2024 00:00</td>\n",
       "      <td>14:15:00</td>\n",
       "      <td>20/06/2024 00:00</td>\n",
       "      <td>Código 7 - ZONA AZUL TALÃO ELETRÔNICO</td>\n",
       "      <td>5541</td>\n",
       "      <td>Estacionar o veículo em desacordo com as condi...</td>\n",
       "      <td>PRACA MIGUEL DE CERVANTES, AO LADO DA PRACA</td>\n",
       "      <td>AO POSTE N. H027335</td>\n",
       "      <td>None</td>\n",
       "    </tr>\n",
       "    <tr>\n",
       "      <th>708235</th>\n",
       "      <td>09/08/2024 00:00</td>\n",
       "      <td>13:22:00</td>\n",
       "      <td>15/08/2024 00:00</td>\n",
       "      <td>Código 8 - AUTOS NO TALÃO ELETRÔNICO</td>\n",
       "      <td>5207</td>\n",
       "      <td>Dirigir sem atenção ou sem os cuidados indispe...</td>\n",
       "      <td>AVENIDA DANTAS BARRETO, CRUZAMENTO AV</td>\n",
       "      <td>NOSSA SENHORA DO CARMO</td>\n",
       "      <td>None</td>\n",
       "    </tr>\n",
       "    <tr>\n",
       "      <th>854677</th>\n",
       "      <td>05/12/2024 00:00</td>\n",
       "      <td>16:55:00</td>\n",
       "      <td>12/12/2024 00:00</td>\n",
       "      <td>Código 8 - AUTOS NO TALÃO ELETRÔNICO</td>\n",
       "      <td>7102</td>\n",
       "      <td>Conduzir motoc/moton/transportando carga em de...</td>\n",
       "      <td>RUA DA SAUDADE, CRUZAMENTO COM A AV MARIO MELO</td>\n",
       "      <td>Art. 244 inciso VIII</td>\n",
       "      <td>None</td>\n",
       "    </tr>\n",
       "  </tbody>\n",
       "</table>\n",
       "</div>"
      ],
      "text/plain": [
       "           data_infracao hora_infracao  data_implantacao  \\\n",
       "97799         2023-02-27      15:24:00        2023-03-03   \n",
       "156220        2023-04-05      15:55:00        2023-04-11   \n",
       "339560        2023-08-24      15:54:00        2023-09-01   \n",
       "390173        2023-10-03      08:34:00        2023-10-05   \n",
       "646544  11/06/2024 00:00      14:15:00  20/06/2024 00:00   \n",
       "708235  09/08/2024 00:00      13:22:00  15/08/2024 00:00   \n",
       "854677  05/12/2024 00:00      16:55:00  12/12/2024 00:00   \n",
       "\n",
       "                           agente_equipamento  cod_infracao  \\\n",
       "97799   Código 8 - AUTOS NO TALÃO ELETRÔNICO           7633   \n",
       "156220  Código 8 - AUTOS NO TALÃO ELETRÔNICO           7102   \n",
       "339560  Código 8 - AUTOS NO TALÃO ELETRÔNICO           5819   \n",
       "390173  Código 8 - AUTOS NO TALÃO ELETRÔNICO           6050   \n",
       "646544  Código 7 - ZONA AZUL TALÃO ELETRÔNICO          5541   \n",
       "708235   Código 8 - AUTOS NO TALÃO ELETRÔNICO          5207   \n",
       "854677   Código 8 - AUTOS NO TALÃO ELETRÔNICO          7102   \n",
       "\n",
       "                                       descricao_infracao  \\\n",
       "97799   Dirigir o veículo segurando o telefone celular...   \n",
       "156220  Conduzir motoc/moton/transportando carga em de...   \n",
       "339560  Transitar com veículo em canteiros centrais di...   \n",
       "390173  Avançar o sinal vermelho do semáforo, exceto o...   \n",
       "646544  Estacionar o veículo em desacordo com as condi...   \n",
       "708235  Dirigir sem atenção ou sem os cuidados indispe...   \n",
       "854677  Conduzir motoc/moton/transportando carga em de...   \n",
       "\n",
       "                                        local_cometimento  \\\n",
       "97799   AVENIDA GOVERNADOR AGAMENON MAGALHAES, SOB O S...   \n",
       "156220  AVENIDA RECIFE, EM FRENTE AO N. 5008 SENTIDO B...   \n",
       "339560  PRACA DO CAXANGA, LADO OPOSTO AO N. ,2831     ...   \n",
       "390173  RUA PAISSANDU, SOB O SEMAFORO N. 069          ...   \n",
       "646544        PRACA MIGUEL DE CERVANTES, AO LADO DA PRACA   \n",
       "708235              AVENIDA DANTAS BARRETO, CRUZAMENTO AV   \n",
       "854677     RUA DA SAUDADE, CRUZAMENTO COM A AV MARIO MELO   \n",
       "\n",
       "                          Artigo             Inciso  \n",
       "97799             SENTIDO OLINDA               None  \n",
       "156220      Art. 244 inciso VIII               None  \n",
       "339560  SENTIDO CIDADE/SUBURBIO.               None  \n",
       "390173             ILHA DO LEITE  SENTIDO BOA VIAGE  \n",
       "646544       AO POSTE N. H027335               None  \n",
       "708235    NOSSA SENHORA DO CARMO               None  \n",
       "854677      Art. 244 inciso VIII               None  "
      ]
     },
     "execution_count": 12,
     "metadata": {},
     "output_type": "execute_result"
    }
   ],
   "source": [
    "valores_problema = [\n",
    "    'SENTIDO OLINDA',\n",
    "    'SENTIDO CIDADE/SUBURBIO.',\n",
    "    'NOSSA SENHORA DO CARMO',\n",
    "    'ILHA DO LEITE',\n",
    "    'AO POSTE N. H027335',\n",
    "    'Art. 244 inciso VIII'\n",
    "]\n",
    "\n",
    "# Mostrar os registros que contêm os valores problemáticos na coluna 'Artigo'\n",
    "registros_problema = dft[dft['Artigo'].isin(valores_problema)]\n",
    "registros_problema"
   ]
  },
  {
   "cell_type": "markdown",
   "id": "1c16cca2",
   "metadata": {},
   "source": [
    "### Corrigindo os valores nulos"
   ]
  },
  {
   "cell_type": "code",
   "execution_count": 13,
   "id": "99cfaa86",
   "metadata": {},
   "outputs": [
    {
     "data": {
      "text/plain": [
       "data_infracao              0\n",
       "hora_infracao              0\n",
       "data_implantacao           0\n",
       "agente_equipamento     62784\n",
       "cod_infracao               0\n",
       "descricao_infracao         0\n",
       "local_cometimento          0\n",
       "Artigo                     0\n",
       "Inciso                129955\n",
       "dtype: int64"
      ]
     },
     "execution_count": 13,
     "metadata": {},
     "output_type": "execute_result"
    }
   ],
   "source": [
    "dft.isna().sum()"
   ]
  },
  {
   "cell_type": "code",
   "execution_count": 16,
   "id": "0723aec8",
   "metadata": {},
   "outputs": [],
   "source": [
    "dft = dft.fillna(\"não informado\")"
   ]
  },
  {
   "cell_type": "code",
   "execution_count": 17,
   "id": "0a8a1825",
   "metadata": {},
   "outputs": [
    {
     "data": {
      "text/plain": [
       "data_infracao         0\n",
       "hora_infracao         0\n",
       "data_implantacao      0\n",
       "agente_equipamento    0\n",
       "cod_infracao          0\n",
       "descricao_infracao    0\n",
       "local_cometimento     0\n",
       "Artigo                0\n",
       "Inciso                0\n",
       "dtype: int64"
      ]
     },
     "execution_count": 17,
     "metadata": {},
     "output_type": "execute_result"
    }
   ],
   "source": [
    "dft.isna().sum()"
   ]
  },
  {
   "cell_type": "markdown",
   "id": "fa45fb74",
   "metadata": {},
   "source": [
    "Como tanto a coluna de agente_equipamento e inciso são string é valido substituir os valores nulos por \"não informado\""
   ]
  },
  {
   "cell_type": "markdown",
   "id": "929ccd6a",
   "metadata": {},
   "source": [
    "### Transformando os tipos das colunas"
   ]
  },
  {
   "cell_type": "markdown",
   "id": "908b1b3a",
   "metadata": {},
   "source": [
    "## data_infracao\n"
   ]
  },
  {
   "cell_type": "markdown",
   "id": "11df4e43",
   "metadata": {},
   "source": [
    "Apesar de todas a datas estarem em tipo objeto, em uma inspeção masi detalhada do csv final percebemos que o formato está diferente nos dados referentes a 2024. E para facilitar a compreensão decidimos colocar no formato \"dia/mês/ano\"\n",
    "\n",
    "2023 = \"2023-10-26;\"\n",
    "2024 = \" 06/05/2024 00:00\"\n",
    "2025 = \"2025-04-22\""
   ]
  },
  {
   "cell_type": "code",
   "execution_count": 22,
   "id": "ac2f95c0",
   "metadata": {},
   "outputs": [
    {
     "data": {
      "text/plain": [
       "0          2023-01-01\n",
       "1          2023-01-01\n",
       "2          2023-01-01\n",
       "3          2023-01-01\n",
       "4          2023-01-01\n",
       "              ...    \n",
       "1064807           NaT\n",
       "1064808           NaT\n",
       "1064809           NaT\n",
       "1064810           NaT\n",
       "1064811           NaT\n",
       "Name: data_infracao, Length: 1064812, dtype: object"
      ]
     },
     "execution_count": 22,
     "metadata": {},
     "output_type": "execute_result"
    }
   ],
   "source": [
    "pd.to_datetime(dft['data_infracao'], dayfirst=True, errors='coerce').dt.date\n"
   ]
  }
 ],
 "metadata": {
  "kernelspec": {
   "display_name": "Python 3",
   "language": "python",
   "name": "python3"
  },
  "language_info": {
   "codemirror_mode": {
    "name": "ipython",
    "version": 3
   },
   "file_extension": ".py",
   "mimetype": "text/x-python",
   "name": "python",
   "nbconvert_exporter": "python",
   "pygments_lexer": "ipython3",
   "version": "3.13.0"
  }
 },
 "nbformat": 4,
 "nbformat_minor": 5
}
